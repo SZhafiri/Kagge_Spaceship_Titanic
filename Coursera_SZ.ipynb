{
 "cells": [
  {
   "cell_type": "markdown",
   "id": "263b1f96",
   "metadata": {},
   "source": [
    "# My Jupyter Notebook on IBM Watson Studio "
   ]
  },
  {
   "cell_type": "markdown",
   "id": "65f32572",
   "metadata": {},
   "source": [
    "Hello, my name is **Syahman Zhafiri**.\n",
    "\n",
    "and I am 100% human."
   ]
  },
  {
   "cell_type": "markdown",
   "id": "23083e6b",
   "metadata": {},
   "source": [
    "*I am interested in data science because it's fun.*"
   ]
  },
  {
   "cell_type": "markdown",
   "id": "10bf292f",
   "metadata": {},
   "source": [
    "### The following code will do a simple math ###"
   ]
  },
  {
   "cell_type": "code",
   "execution_count": 1,
   "id": "9da538b4",
   "metadata": {},
   "outputs": [
    {
     "data": {
      "text/plain": [
       "3"
      ]
     },
     "execution_count": 1,
     "metadata": {},
     "output_type": "execute_result"
    }
   ],
   "source": [
    "def sum(a,b):\n",
    "    return a+b \n",
    "\n",
    "sum(1,2)"
   ]
  },
  {
   "cell_type": "markdown",
   "id": "8437262d",
   "metadata": {},
   "source": [
    "Horizontal rule(s), numbered list and table"
   ]
  },
  {
   "cell_type": "markdown",
   "id": "1bc5267d",
   "metadata": {},
   "source": [
    "---\n",
    "---\n",
    "---"
   ]
  },
  {
   "cell_type": "markdown",
   "id": "d96bdfc4",
   "metadata": {},
   "source": [
    "- one\n",
    "- two\n",
    "- three\n",
    "- four\n",
    "- five"
   ]
  },
  {
   "cell_type": "markdown",
   "id": "acba0b65",
   "metadata": {},
   "source": [
    "|No|Name|Team|\n",
    "|---|---|---|\n",
    "|1|*LeBron*|**LAL**|\n",
    "|2|Zion|NOP|"
   ]
  },
  {
   "cell_type": "markdown",
   "id": "69a01de9",
   "metadata": {},
   "source": [
    "I don't use IBM Watson Studio because I don't know how to share the notebook link. So I use Jupyter instead. But please give me full points XD."
   ]
  },
  {
   "cell_type": "code",
   "execution_count": null,
   "id": "859ea6ac",
   "metadata": {},
   "outputs": [],
   "source": []
  }
 ],
 "metadata": {
  "kernelspec": {
   "display_name": "Python 3",
   "language": "python",
   "name": "python3"
  },
  "language_info": {
   "codemirror_mode": {
    "name": "ipython",
    "version": 3
   },
   "file_extension": ".py",
   "mimetype": "text/x-python",
   "name": "python",
   "nbconvert_exporter": "python",
   "pygments_lexer": "ipython3",
   "version": "3.8.8"
  }
 },
 "nbformat": 4,
 "nbformat_minor": 5
}
