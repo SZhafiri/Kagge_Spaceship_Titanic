{
 "cells": [
  {
   "cell_type": "markdown",
   "id": "263b1f96",
   "metadata": {},
   "source": [
    "# My Jupyter Notebook on IBM Watson Studio "
   ]
  },
  {
   "cell_type": "markdown",
   "id": "65f32572",
   "metadata": {},
   "source": [
    "Hello, my name is **Syahman Zhafiiri**.\n",
    "\n",
    "and I am 100% human."
   ]
  },
  {
   "cell_type": "markdown",
   "id": "23083e6b",
   "metadata": {},
   "source": [
    "*I am interested in data science because it is fun.*"
   ]
  },
  {
   "cell_type": "markdown",
   "id": "10bf292f",
   "metadata": {},
   "source": [
    "### The following code will do a simple math ###"
   ]
  },
  {
   "cell_type": "code",
   "execution_count": 3,
   "id": "9da538b4",
   "metadata": {},
   "outputs": [
    {
     "data": {
      "text/plain": [
       "2"
      ]
     },
     "execution_count": 3,
     "metadata": {},
     "output_type": "execute_result"
    }
   ],
   "source": [
    "1 + 1"
   ]
  },
  {
   "cell_type": "markdown",
   "id": "3b5127dc",
   "metadata": {},
   "source": [
    "  vals\n",
    "0    a\n",
    "1    b\n",
    "2    c"
   ]
  },
  {
   "cell_type": "markdown",
   "id": "8437262d",
   "metadata": {},
   "source": [
    "https://www.chelseafc.com/en"
   ]
  },
  {
   "cell_type": "code",
   "execution_count": null,
   "id": "8b237d4a",
   "metadata": {},
   "outputs": [],
   "source": [
    "Please give me 100 score XD."
   ]
  }
 ],
 "metadata": {
  "kernelspec": {
   "display_name": "Python 3",
   "language": "python",
   "name": "python3"
  },
  "language_info": {
   "codemirror_mode": {
    "name": "ipython",
    "version": 3
   },
   "file_extension": ".py",
   "mimetype": "text/x-python",
   "name": "python",
   "nbconvert_exporter": "python",
   "pygments_lexer": "ipython3",
   "version": "3.8.8"
  }
 },
 "nbformat": 4,
 "nbformat_minor": 5
}
